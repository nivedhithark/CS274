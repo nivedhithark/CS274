{
 "cells": [
  {
   "cell_type": "code",
   "execution_count": 1,
   "metadata": {},
   "outputs": [],
   "source": [
    "%matplotlib inline\n",
    "import pandas as pd\n",
    "\n",
    "path=\"C:\\\\Users\\\\nived\\\\Desktop\\\\Nivi ideapad Lenovo\\\\Nivoo SJ\\\\SJSU sem 2\\\\CS274\\\\project ideas\\\\nivedhitha book recomm\\\\data\\\\goodbooks-10k-master\\\\\"\n",
    "ratings = pd.read_csv( path+'ratings.csv' )\n",
    "actual_ratings = pd.read_csv( path+'ratings.csv' )\n",
    "to_read = pd.read_csv( path+'to_read.csv' )\n",
    "books = pd.read_csv( path+'books.csv' )\n",
    "\n",
    "tags = pd.read_csv( path+'tags.csv' )\n",
    "book_tags = pd.read_csv( path+'book_tags.csv')\n",
    "\n",
    "#print len(r)\n",
    "\n",
    "\n"
   ]
  },
  {
   "cell_type": "code",
   "execution_count": 2,
   "metadata": {},
   "outputs": [
    {
     "data": {
      "text/plain": [
       "<matplotlib.axes._subplots.AxesSubplot at 0x10152143b38>"
      ]
     },
     "execution_count": 2,
     "metadata": {},
     "output_type": "execute_result"
    },
    {
     "data": {
      "image/png": "[encoded data removed]",
      "text/plain": [
       "<Figure size 432x288 with 1 Axes>"
      ]
     },
     "metadata": {},
     "output_type": "display_data"
    }
   ],
   "source": [
    "ratings.rating.hist( bins = 5 )"
   ]
  },
  {
   "cell_type": "code",
   "execution_count": 3,
   "metadata": {},
   "outputs": [
    {
     "data": {
      "text/plain": [
       "<matplotlib.axes._subplots.AxesSubplot at 0x1015b102320>"
      ]
     },
     "execution_count": 3,
     "metadata": {},
     "output_type": "execute_result"
    },
    {
     "data": {
      "image/png": "[encoded data removed]",
      "text/plain": [
       "<Figure size 432x288 with 1 Axes>"
      ]
     },
     "metadata": {},
     "output_type": "display_data"
    }
   ],
   "source": [
    "import matplotlib as plt\n",
    "plt.rc(\"font\",size=15)\n",
    "ratings.rating.value_counts(sort=False).plot(kind='bar')"
   ]
  },
  {
   "cell_type": "code",
   "execution_count": 4,
   "metadata": {},
   "outputs": [
    {
     "data": {
      "text/html": [
       "<div>\n",
       "<style scoped>\n",
       "    .dataframe tbody tr th:only-of-type {\n",
       "        vertical-align: middle;\n",
       "    }\n",
       "\n",
       "    .dataframe tbody tr th {\n",
       "        vertical-align: top;\n",
       "    }\n",
       "\n",
       "    .dataframe thead th {\n",
       "        text-align: right;\n",
       "    }\n",
       "</style>\n",
       "<table border=\"1\" class=\"dataframe\">\n",
       "  <thead>\n",
       "    <tr style=\"text-align: right;\">\n",
       "      <th></th>\n",
       "      <th>user_id</th>\n",
       "      <th>book_id</th>\n",
       "      <th>rating</th>\n",
       "    </tr>\n",
       "  </thead>\n",
       "  <tbody>\n",
       "    <tr>\n",
       "      <th>0</th>\n",
       "      <td>1</td>\n",
       "      <td>258</td>\n",
       "      <td>5</td>\n",
       "    </tr>\n",
       "    <tr>\n",
       "      <th>1</th>\n",
       "      <td>2</td>\n",
       "      <td>4081</td>\n",
       "      <td>4</td>\n",
       "    </tr>\n",
       "    <tr>\n",
       "      <th>2</th>\n",
       "      <td>2</td>\n",
       "      <td>260</td>\n",
       "      <td>5</td>\n",
       "    </tr>\n",
       "    <tr>\n",
       "      <th>3</th>\n",
       "      <td>2</td>\n",
       "      <td>9296</td>\n",
       "      <td>5</td>\n",
       "    </tr>\n",
       "    <tr>\n",
       "      <th>4</th>\n",
       "      <td>2</td>\n",
       "      <td>2318</td>\n",
       "      <td>3</td>\n",
       "    </tr>\n",
       "  </tbody>\n",
       "</table>\n",
       "</div>"
      ],
      "text/plain": [
       "   user_id  book_id  rating\n",
       "0        1      258       5\n",
       "1        2     4081       4\n",
       "2        2      260       5\n",
       "3        2     9296       5\n",
       "4        2     2318       3"
      ]
     },
     "execution_count": 4,
     "metadata": {},
     "output_type": "execute_result"
    }
   ],
   "source": [
    "ratings.head()"
   ]
  },
  {
   "cell_type": "code",
   "execution_count": 5,
   "metadata": {},
   "outputs": [
    {
     "name": "stdout",
     "output_type": "stream",
     "text": [
      "0.25\n"
     ]
    }
   ],
   "source": [
    "from math import *\n",
    "  \n",
    "def jaccard_similarity(x,y):\n",
    "  \n",
    " intersection_cardinality = len(set.intersection(*[set(x), set(y)]))\n",
    " #print intersection_cardinality\n",
    " union_cardinality = len(set.union(*[set(x), set(y)]))\n",
    " #print union_cardinality \n",
    " return intersection_cardinality/float(union_cardinality)\n",
    "  \n",
    "print(jaccard_similarity([0,0,2],[0,1,4]))\n",
    "\n",
    "from math import *\n",
    "\n",
    "def intersect(a, b):\n",
    "    return list(set(a) & set(b))\n",
    "    #print(intersect(b1, b2))\n",
    "\n",
    "def jacra_similarity(x,y):\n",
    "    sum_rate=0\n",
    "    for i in range(len(x)):\n",
    "        #for each user's rating for book x and y\n",
    "        if(x[i+1]!=0 and y[i+1]!=0):\n",
    "            #then both books have been rated something by user i\n",
    "            min_rate=min(x[i+1],y[i+1])\n",
    "            max_rate=max(x[i+1],y[i+1])\n",
    "            sum_rate+=min_rate/max_rate\n",
    "    intersection_cardinality = len(set.intersection(*[set(x), set(y)]))\n",
    "    jacra=jaccard_similarity(x,y)*(sum_rate/intersection_cardinality)\n",
    "    return jacra\n",
    "  \n",
    "#print(intersect([1,2,3],[5,2,0]))\n",
    "#print(jacra_similarity([1,2,3],[5,2,0]))\n",
    "#print(jaccard_similarity([1,2,3],[5,2,0]))"
   ]
  },
  {
   "cell_type": "code",
   "execution_count": 6,
   "metadata": {},
   "outputs": [],
   "source": [
    "ratings_mtx_jaccard = ratings.pivot(index = 'user_id', columns ='book_id', values = 'rating').fillna(0)\n",
    "ratings_mtx_jacra = ratings.pivot(index = 'user_id', columns ='book_id', values = 'rating').fillna(0)\n",
    "ratings_mtx_jaccard.head()\n",
    "actualRatings = actual_ratings.pivot(index = 'user_id', columns ='book_id', values = 'rating').fillna(0)\n",
    "#ratings_mtx_jacra.head()\n",
    "\n",
    "## don't run below\n",
    "#n_users=small_ratings.user_id.unique().shape[0]\n",
    "#n_books=small_ratings.book_id.unique().shape[0]\n",
    "#print('Number of users = ' + str(n_users) + ' | Number of books = ' + str(n_books))"
   ]
  },
  {
   "cell_type": "code",
   "execution_count": 7,
   "metadata": {},
   "outputs": [
    {
     "data": {
      "text/html": [
       "<div>\n",
       "<style scoped>\n",
       "    .dataframe tbody tr th:only-of-type {\n",
       "        vertical-align: middle;\n",
       "    }\n",
       "\n",
       "    .dataframe tbody tr th {\n",
       "        vertical-align: top;\n",
       "    }\n",
       "\n",
       "    .dataframe thead th {\n",
       "        text-align: right;\n",
       "    }\n",
       "</style>\n",
       "<table border=\"1\" class=\"dataframe\">\n",
       "  <thead>\n",
       "    <tr style=\"text-align: right;\">\n",
       "      <th>book_id</th>\n",
       "      <th>1</th>\n",
       "      <th>2</th>\n",
       "      <th>3</th>\n",
       "      <th>4</th>\n",
       "      <th>5</th>\n",
       "      <th>6</th>\n",
       "      <th>7</th>\n",
       "      <th>8</th>\n",
       "      <th>9</th>\n",
       "      <th>10</th>\n",
       "      <th>...</th>\n",
       "      <th>91</th>\n",
       "      <th>92</th>\n",
       "      <th>93</th>\n",
       "      <th>94</th>\n",
       "      <th>95</th>\n",
       "      <th>96</th>\n",
       "      <th>97</th>\n",
       "      <th>98</th>\n",
       "      <th>99</th>\n",
       "      <th>100</th>\n",
       "    </tr>\n",
       "    <tr>\n",
       "      <th>user_id</th>\n",
       "      <th></th>\n",
       "      <th></th>\n",
       "      <th></th>\n",
       "      <th></th>\n",
       "      <th></th>\n",
       "      <th></th>\n",
       "      <th></th>\n",
       "      <th></th>\n",
       "      <th></th>\n",
       "      <th></th>\n",
       "      <th></th>\n",
       "      <th></th>\n",
       "      <th></th>\n",
       "      <th></th>\n",
       "      <th></th>\n",
       "      <th></th>\n",
       "      <th></th>\n",
       "      <th></th>\n",
       "      <th></th>\n",
       "      <th></th>\n",
       "      <th></th>\n",
       "    </tr>\n",
       "  </thead>\n",
       "  <tbody>\n",
       "    <tr>\n",
       "      <th>1</th>\n",
       "      <td>0.0</td>\n",
       "      <td>0.0</td>\n",
       "      <td>0.0</td>\n",
       "      <td>5.0</td>\n",
       "      <td>0.0</td>\n",
       "      <td>0.0</td>\n",
       "      <td>0.0</td>\n",
       "      <td>0.0</td>\n",
       "      <td>0.0</td>\n",
       "      <td>4.0</td>\n",
       "      <td>...</td>\n",
       "      <td>0.0</td>\n",
       "      <td>0.0</td>\n",
       "      <td>0.0</td>\n",
       "      <td>1.0</td>\n",
       "      <td>4.0</td>\n",
       "      <td>0.0</td>\n",
       "      <td>0.0</td>\n",
       "      <td>3.0</td>\n",
       "      <td>0.0</td>\n",
       "      <td>4.0</td>\n",
       "    </tr>\n",
       "    <tr>\n",
       "      <th>2</th>\n",
       "      <td>0.0</td>\n",
       "      <td>5.0</td>\n",
       "      <td>0.0</td>\n",
       "      <td>0.0</td>\n",
       "      <td>5.0</td>\n",
       "      <td>0.0</td>\n",
       "      <td>0.0</td>\n",
       "      <td>4.0</td>\n",
       "      <td>0.0</td>\n",
       "      <td>5.0</td>\n",
       "      <td>...</td>\n",
       "      <td>0.0</td>\n",
       "      <td>0.0</td>\n",
       "      <td>0.0</td>\n",
       "      <td>0.0</td>\n",
       "      <td>0.0</td>\n",
       "      <td>0.0</td>\n",
       "      <td>0.0</td>\n",
       "      <td>0.0</td>\n",
       "      <td>0.0</td>\n",
       "      <td>0.0</td>\n",
       "    </tr>\n",
       "    <tr>\n",
       "      <th>3</th>\n",
       "      <td>0.0</td>\n",
       "      <td>0.0</td>\n",
       "      <td>0.0</td>\n",
       "      <td>3.0</td>\n",
       "      <td>0.0</td>\n",
       "      <td>0.0</td>\n",
       "      <td>0.0</td>\n",
       "      <td>0.0</td>\n",
       "      <td>0.0</td>\n",
       "      <td>0.0</td>\n",
       "      <td>...</td>\n",
       "      <td>0.0</td>\n",
       "      <td>0.0</td>\n",
       "      <td>0.0</td>\n",
       "      <td>0.0</td>\n",
       "      <td>0.0</td>\n",
       "      <td>0.0</td>\n",
       "      <td>0.0</td>\n",
       "      <td>0.0</td>\n",
       "      <td>0.0</td>\n",
       "      <td>0.0</td>\n",
       "    </tr>\n",
       "    <tr>\n",
       "      <th>4</th>\n",
       "      <td>0.0</td>\n",
       "      <td>5.0</td>\n",
       "      <td>0.0</td>\n",
       "      <td>4.0</td>\n",
       "      <td>4.0</td>\n",
       "      <td>0.0</td>\n",
       "      <td>4.0</td>\n",
       "      <td>4.0</td>\n",
       "      <td>0.0</td>\n",
       "      <td>5.0</td>\n",
       "      <td>...</td>\n",
       "      <td>0.0</td>\n",
       "      <td>0.0</td>\n",
       "      <td>5.0</td>\n",
       "      <td>1.0</td>\n",
       "      <td>4.0</td>\n",
       "      <td>0.0</td>\n",
       "      <td>3.0</td>\n",
       "      <td>0.0</td>\n",
       "      <td>0.0</td>\n",
       "      <td>3.0</td>\n",
       "    </tr>\n",
       "    <tr>\n",
       "      <th>5</th>\n",
       "      <td>0.0</td>\n",
       "      <td>0.0</td>\n",
       "      <td>0.0</td>\n",
       "      <td>0.0</td>\n",
       "      <td>0.0</td>\n",
       "      <td>4.0</td>\n",
       "      <td>0.0</td>\n",
       "      <td>0.0</td>\n",
       "      <td>0.0</td>\n",
       "      <td>0.0</td>\n",
       "      <td>...</td>\n",
       "      <td>0.0</td>\n",
       "      <td>0.0</td>\n",
       "      <td>0.0</td>\n",
       "      <td>0.0</td>\n",
       "      <td>0.0</td>\n",
       "      <td>0.0</td>\n",
       "      <td>0.0</td>\n",
       "      <td>0.0</td>\n",
       "      <td>0.0</td>\n",
       "      <td>0.0</td>\n",
       "    </tr>\n",
       "  </tbody>\n",
       "</table>\n",
       "<p>5 rows × 100 columns</p>\n",
       "</div>"
      ],
      "text/plain": [
       "book_id  1    2    3    4    5    6    7    8    9    10  ...   91   92   93   \\\n",
       "user_id                                                   ...                   \n",
       "1        0.0  0.0  0.0  5.0  0.0  0.0  0.0  0.0  0.0  4.0 ...   0.0  0.0  0.0   \n",
       "2        0.0  5.0  0.0  0.0  5.0  0.0  0.0  4.0  0.0  5.0 ...   0.0  0.0  0.0   \n",
       "3        0.0  0.0  0.0  3.0  0.0  0.0  0.0  0.0  0.0  0.0 ...   0.0  0.0  0.0   \n",
       "4        0.0  5.0  0.0  4.0  4.0  0.0  4.0  4.0  0.0  5.0 ...   0.0  0.0  5.0   \n",
       "5        0.0  0.0  0.0  0.0  0.0  4.0  0.0  0.0  0.0  0.0 ...   0.0  0.0  0.0   \n",
       "\n",
       "book_id  94   95   96   97   98   99   100  \n",
       "user_id                                     \n",
       "1        1.0  4.0  0.0  0.0  3.0  0.0  4.0  \n",
       "2        0.0  0.0  0.0  0.0  0.0  0.0  0.0  \n",
       "3        0.0  0.0  0.0  0.0  0.0  0.0  0.0  \n",
       "4        1.0  4.0  0.0  3.0  0.0  0.0  3.0  \n",
       "5        0.0  0.0  0.0  0.0  0.0  0.0  0.0  \n",
       "\n",
       "[5 rows x 100 columns]"
      ]
     },
     "execution_count": 7,
     "metadata": {},
     "output_type": "execute_result"
    }
   ],
   "source": [
    "sratings_mtx_jaccard=ratings_mtx_jaccard.iloc[0:50,0:100]\n",
    "sratings_mtx_jaccard.head()"
   ]
  },
  {
   "cell_type": "code",
   "execution_count": 8,
   "metadata": {},
   "outputs": [
    {
     "data": {
      "text/html": [
       "<div>\n",
       "<style scoped>\n",
       "    .dataframe tbody tr th:only-of-type {\n",
       "        vertical-align: middle;\n",
       "    }\n",
       "\n",
       "    .dataframe tbody tr th {\n",
       "        vertical-align: top;\n",
       "    }\n",
       "\n",
       "    .dataframe thead th {\n",
       "        text-align: right;\n",
       "    }\n",
       "</style>\n",
       "<table border=\"1\" class=\"dataframe\">\n",
       "  <thead>\n",
       "    <tr style=\"text-align: right;\">\n",
       "      <th>book_id</th>\n",
       "      <th>1</th>\n",
       "      <th>2</th>\n",
       "      <th>3</th>\n",
       "      <th>4</th>\n",
       "      <th>5</th>\n",
       "      <th>6</th>\n",
       "      <th>7</th>\n",
       "      <th>8</th>\n",
       "      <th>9</th>\n",
       "      <th>10</th>\n",
       "      <th>...</th>\n",
       "      <th>91</th>\n",
       "      <th>92</th>\n",
       "      <th>93</th>\n",
       "      <th>94</th>\n",
       "      <th>95</th>\n",
       "      <th>96</th>\n",
       "      <th>97</th>\n",
       "      <th>98</th>\n",
       "      <th>99</th>\n",
       "      <th>100</th>\n",
       "    </tr>\n",
       "    <tr>\n",
       "      <th>user_id</th>\n",
       "      <th></th>\n",
       "      <th></th>\n",
       "      <th></th>\n",
       "      <th></th>\n",
       "      <th></th>\n",
       "      <th></th>\n",
       "      <th></th>\n",
       "      <th></th>\n",
       "      <th></th>\n",
       "      <th></th>\n",
       "      <th></th>\n",
       "      <th></th>\n",
       "      <th></th>\n",
       "      <th></th>\n",
       "      <th></th>\n",
       "      <th></th>\n",
       "      <th></th>\n",
       "      <th></th>\n",
       "      <th></th>\n",
       "      <th></th>\n",
       "      <th></th>\n",
       "    </tr>\n",
       "  </thead>\n",
       "  <tbody>\n",
       "    <tr>\n",
       "      <th>1</th>\n",
       "      <td>0.0</td>\n",
       "      <td>0.0</td>\n",
       "      <td>0.0</td>\n",
       "      <td>5.0</td>\n",
       "      <td>0.0</td>\n",
       "      <td>0.0</td>\n",
       "      <td>0.0</td>\n",
       "      <td>0.0</td>\n",
       "      <td>0.0</td>\n",
       "      <td>4.0</td>\n",
       "      <td>...</td>\n",
       "      <td>0.0</td>\n",
       "      <td>0.0</td>\n",
       "      <td>0.0</td>\n",
       "      <td>1.0</td>\n",
       "      <td>4.0</td>\n",
       "      <td>0.0</td>\n",
       "      <td>0.0</td>\n",
       "      <td>3.0</td>\n",
       "      <td>0.0</td>\n",
       "      <td>4.0</td>\n",
       "    </tr>\n",
       "    <tr>\n",
       "      <th>2</th>\n",
       "      <td>0.0</td>\n",
       "      <td>5.0</td>\n",
       "      <td>0.0</td>\n",
       "      <td>0.0</td>\n",
       "      <td>5.0</td>\n",
       "      <td>0.0</td>\n",
       "      <td>0.0</td>\n",
       "      <td>4.0</td>\n",
       "      <td>0.0</td>\n",
       "      <td>5.0</td>\n",
       "      <td>...</td>\n",
       "      <td>0.0</td>\n",
       "      <td>0.0</td>\n",
       "      <td>0.0</td>\n",
       "      <td>0.0</td>\n",
       "      <td>0.0</td>\n",
       "      <td>0.0</td>\n",
       "      <td>0.0</td>\n",
       "      <td>0.0</td>\n",
       "      <td>0.0</td>\n",
       "      <td>0.0</td>\n",
       "    </tr>\n",
       "    <tr>\n",
       "      <th>3</th>\n",
       "      <td>0.0</td>\n",
       "      <td>0.0</td>\n",
       "      <td>0.0</td>\n",
       "      <td>3.0</td>\n",
       "      <td>0.0</td>\n",
       "      <td>0.0</td>\n",
       "      <td>0.0</td>\n",
       "      <td>0.0</td>\n",
       "      <td>0.0</td>\n",
       "      <td>0.0</td>\n",
       "      <td>...</td>\n",
       "      <td>0.0</td>\n",
       "      <td>0.0</td>\n",
       "      <td>0.0</td>\n",
       "      <td>0.0</td>\n",
       "      <td>0.0</td>\n",
       "      <td>0.0</td>\n",
       "      <td>0.0</td>\n",
       "      <td>0.0</td>\n",
       "      <td>0.0</td>\n",
       "      <td>0.0</td>\n",
       "    </tr>\n",
       "    <tr>\n",
       "      <th>4</th>\n",
       "      <td>0.0</td>\n",
       "      <td>5.0</td>\n",
       "      <td>0.0</td>\n",
       "      <td>4.0</td>\n",
       "      <td>4.0</td>\n",
       "      <td>0.0</td>\n",
       "      <td>4.0</td>\n",
       "      <td>4.0</td>\n",
       "      <td>0.0</td>\n",
       "      <td>5.0</td>\n",
       "      <td>...</td>\n",
       "      <td>0.0</td>\n",
       "      <td>0.0</td>\n",
       "      <td>5.0</td>\n",
       "      <td>1.0</td>\n",
       "      <td>4.0</td>\n",
       "      <td>0.0</td>\n",
       "      <td>3.0</td>\n",
       "      <td>0.0</td>\n",
       "      <td>0.0</td>\n",
       "      <td>3.0</td>\n",
       "    </tr>\n",
       "    <tr>\n",
       "      <th>5</th>\n",
       "      <td>0.0</td>\n",
       "      <td>0.0</td>\n",
       "      <td>0.0</td>\n",
       "      <td>0.0</td>\n",
       "      <td>0.0</td>\n",
       "      <td>4.0</td>\n",
       "      <td>0.0</td>\n",
       "      <td>0.0</td>\n",
       "      <td>0.0</td>\n",
       "      <td>0.0</td>\n",
       "      <td>...</td>\n",
       "      <td>0.0</td>\n",
       "      <td>0.0</td>\n",
       "      <td>0.0</td>\n",
       "      <td>0.0</td>\n",
       "      <td>0.0</td>\n",
       "      <td>0.0</td>\n",
       "      <td>0.0</td>\n",
       "      <td>0.0</td>\n",
       "      <td>0.0</td>\n",
       "      <td>0.0</td>\n",
       "    </tr>\n",
       "  </tbody>\n",
       "</table>\n",
       "<p>5 rows × 100 columns</p>\n",
       "</div>"
      ],
      "text/plain": [
       "book_id  1    2    3    4    5    6    7    8    9    10  ...   91   92   93   \\\n",
       "user_id                                                   ...                   \n",
       "1        0.0  0.0  0.0  5.0  0.0  0.0  0.0  0.0  0.0  4.0 ...   0.0  0.0  0.0   \n",
       "2        0.0  5.0  0.0  0.0  5.0  0.0  0.0  4.0  0.0  5.0 ...   0.0  0.0  0.0   \n",
       "3        0.0  0.0  0.0  3.0  0.0  0.0  0.0  0.0  0.0  0.0 ...   0.0  0.0  0.0   \n",
       "4        0.0  5.0  0.0  4.0  4.0  0.0  4.0  4.0  0.0  5.0 ...   0.0  0.0  5.0   \n",
       "5        0.0  0.0  0.0  0.0  0.0  4.0  0.0  0.0  0.0  0.0 ...   0.0  0.0  0.0   \n",
       "\n",
       "book_id  94   95   96   97   98   99   100  \n",
       "user_id                                     \n",
       "1        1.0  4.0  0.0  0.0  3.0  0.0  4.0  \n",
       "2        0.0  0.0  0.0  0.0  0.0  0.0  0.0  \n",
       "3        0.0  0.0  0.0  0.0  0.0  0.0  0.0  \n",
       "4        1.0  4.0  0.0  3.0  0.0  0.0  3.0  \n",
       "5        0.0  0.0  0.0  0.0  0.0  0.0  0.0  \n",
       "\n",
       "[5 rows x 100 columns]"
      ]
     },
     "execution_count": 8,
     "metadata": {},
     "output_type": "execute_result"
    }
   ],
   "source": [
    "sratings_mtx_jacra=ratings_mtx_jacra.iloc[0:50,0:100]\n",
    "sratings_mtx_jacra.head()"
   ]
  },
  {
   "cell_type": "code",
   "execution_count": 9,
   "metadata": {},
   "outputs": [],
   "source": [
    "def initialize_sim_mtx(method):\n",
    "    if(method=='jaccard'):\n",
    "        unique_ISBN=sratings_mtx_jaccard.columns.unique()\n",
    "        #print(len(unique_ISBN))\n",
    "        sim_jaccard_mtx=pd.DataFrame(index=unique_ISBN,columns=unique_ISBN).fillna(0.0).as_matrix()\n",
    "        print(sim_jaccard_mtx)\n",
    "        return(sim_jaccard_mtx)\n",
    "    elif(method=='jacra'):\n",
    "        unique_ISBN=sratings_mtx_jacra.columns.unique()\n",
    "        #print(len(unique_ISBN))\n",
    "        sim_jacra_mtx=pd.DataFrame(index=unique_ISBN,columns=unique_ISBN).fillna(0.0).as_matrix()\n",
    "        print(sim_jacra_mtx)\n",
    "        return(sim_jacra_mtx)\n",
    "        "
   ]
  },
  {
   "cell_type": "code",
   "execution_count": 10,
   "metadata": {
    "scrolled": false
   },
   "outputs": [],
   "source": [
    "def construct_sim_mtx(matrix,method):    \n",
    "    for i,row in enumerate(matrix):\n",
    "        for j,cell in enumerate(row):\n",
    "            if i!=j :\n",
    "                if method=='jaccard':\n",
    "                    ratings_isbn1=sratings_mtx_jaccard.iloc[:,i]\n",
    "                    ratings_isbn2= sratings_mtx_jaccard.iloc[:,j]\n",
    "                    sim=round(jaccard_similarity(ratings_isbn1,ratings_isbn2),3)\n",
    "                    sim_jaccard_mtx[i][j]=sim\n",
    "                elif method=='jacra':\n",
    "                    ratings_isbn1=sratings_mtx_jacra.iloc[:,i]\n",
    "                    ratings_isbn2= sratings_mtx_jacra.iloc[:,j]\n",
    "                    sim=round(jacra_similarity(ratings_isbn1,ratings_isbn2),3)\n",
    "                    sim_jacra_mtx[i][j]=sim                \n",
    "    print(\"done\")\n",
    "            "
   ]
  },
  {
   "cell_type": "code",
   "execution_count": 11,
   "metadata": {},
   "outputs": [
    {
     "name": "stdout",
     "output_type": "stream",
     "text": [
      "[[0. 0. 0. ... 0. 0. 0.]\n",
      " [0. 0. 0. ... 0. 0. 0.]\n",
      " [0. 0. 0. ... 0. 0. 0.]\n",
      " ...\n",
      " [0. 0. 0. ... 0. 0. 0.]\n",
      " [0. 0. 0. ... 0. 0. 0.]\n",
      " [0. 0. 0. ... 0. 0. 0.]]\n",
      "done\n",
      "[[0.   1.   0.8  ... 1.   0.25 0.8 ]\n",
      " [1.   0.   0.8  ... 1.   0.25 0.8 ]\n",
      " [0.8  0.8  0.   ... 0.8  0.2  1.  ]\n",
      " ...\n",
      " [1.   1.   0.8  ... 0.   0.25 0.8 ]\n",
      " [0.25 0.25 0.2  ... 0.25 0.   0.2 ]\n",
      " [0.8  0.8  1.   ... 0.8  0.2  0.  ]]\n"
     ]
    }
   ],
   "source": [
    "sim_jaccard_mtx=initialize_sim_mtx('jaccard')\n",
    "construct_sim_mtx(sim_jaccard_mtx,'jaccard')\n",
    "print(sim_jaccard_mtx)"
   ]
  },
  {
   "cell_type": "code",
   "execution_count": 12,
   "metadata": {},
   "outputs": [
    {
     "name": "stdout",
     "output_type": "stream",
     "text": [
      "[[0. 0. 0. ... 0. 0. 0.]\n",
      " [0. 0. 0. ... 0. 0. 0.]\n",
      " [0. 0. 0. ... 0. 0. 0.]\n",
      " ...\n",
      " [0. 0. 0. ... 0. 0. 0.]\n",
      " [0. 0. 0. ... 0. 0. 0.]\n",
      " [0. 0. 0. ... 0. 0. 0.]]\n",
      "done\n",
      "[[0.    1.088 0.55  ... 0.888 0.    0.61 ]\n",
      " [1.088 0.    0.44  ... 0.388 0.    0.79 ]\n",
      " [0.55  0.44  0.    ... 0.15  0.    0.46 ]\n",
      " ...\n",
      " [0.888 0.388 0.15  ... 0.    0.    0.3  ]\n",
      " [0.    0.    0.    ... 0.    0.    0.   ]\n",
      " [0.61  0.79  0.46  ... 0.3   0.    0.   ]]\n"
     ]
    }
   ],
   "source": [
    "sim_jacra_mtx=initialize_sim_mtx('jacra')\n",
    "construct_sim_mtx(sim_jacra_mtx,'jacra')\n",
    "print(sim_jacra_mtx)"
   ]
  },
  {
   "cell_type": "code",
   "execution_count": 82,
   "metadata": {},
   "outputs": [
    {
     "name": "stdout",
     "output_type": "stream",
     "text": [
      "jaccard sim:  [[0.   1.   0.8  ... 1.   0.25 0.8 ]\n",
      " [1.   0.   0.8  ... 1.   0.25 0.8 ]\n",
      " [0.8  0.8  0.   ... 0.8  0.2  1.  ]\n",
      " ...\n",
      " [1.   1.   0.8  ... 0.   0.25 0.8 ]\n",
      " [0.25 0.25 0.2  ... 0.25 0.   0.2 ]\n",
      " [0.8  0.8  1.   ... 0.8  0.2  0.  ]]\n",
      "jacra sim:  [[0.    1.088 0.55  ... 0.888 0.    0.61 ]\n",
      " [1.088 0.    0.44  ... 0.388 0.    0.79 ]\n",
      " [0.55  0.44  0.    ... 0.15  0.    0.46 ]\n",
      " ...\n",
      " [0.888 0.388 0.15  ... 0.    0.    0.3  ]\n",
      " [0.    0.    0.    ... 0.    0.    0.   ]\n",
      " [0.61  0.79  0.46  ... 0.3   0.    0.   ]]\n"
     ]
    }
   ],
   "source": [
    "print(\"jaccard sim: \", sim_jaccard_mtx)\n",
    "print(\"jacra sim: \", sim_jacra_mtx)"
   ]
  },
  {
   "cell_type": "code",
   "execution_count": 83,
   "metadata": {},
   "outputs": [
    {
     "name": "stdout",
     "output_type": "stream",
     "text": [
      "[[0. 0. 0. ... 3. 0. 4.]\n",
      " [0. 5. 0. ... 0. 0. 0.]\n",
      " [0. 0. 0. ... 0. 0. 0.]\n",
      " ...\n",
      " [0. 0. 0. ... 0. 0. 0.]\n",
      " [3. 0. 0. ... 3. 0. 0.]\n",
      " [0. 3. 0. ... 0. 0. 0.]]\n"
     ]
    }
   ],
   "source": [
    "#jaccard\n",
    "actualRatings=actualRatings.iloc[0:50,0:100]\n",
    "actualRatings_mtx=actualRatings.as_matrix()\n",
    "print(actualRatings_mtx)\n",
    "\n",
    "#actual_ratings_matrix=sratings_mtx_jaccard.as_matrix()\n",
    "#actual_ratings_matrix=np.nan_to_num(actual_ratings_matrix)\n",
    "#actual_ratings_matrix"
   ]
  },
  {
   "cell_type": "code",
   "execution_count": 84,
   "metadata": {},
   "outputs": [],
   "source": [
    "def get_pred(actualRatings_mtx,method):\n",
    "    pred_rating=0\n",
    "    if(method=='jaccard'):\n",
    "        print(\"predicting for jaccard\")\n",
    "        predicted_ratings_matrix=ratings_mtx_jaccard.iloc[0:50,0:100].as_matrix()\n",
    "        #actual_ratings_matrix=sratings_mtx_jaccard.as_matrix()\n",
    "        print(\"actual for jaccard \",actualRatings_mtx)\n",
    "        print(\"predicted for jaccard \",predicted_ratings_matrix)\n",
    "        for i,user in enumerate(actualRatings_mtx):\n",
    "            # i is userid row is all books\n",
    "            sum_user_j=0\n",
    "            denom=0\n",
    "            for j,book in enumerate(user):\n",
    "                #should update in predicted_ratings_matrix[i][j]\n",
    "                if(predicted_ratings_matrix[i][j]!=0):\n",
    "                    sum_user_j+=sim_jaccard_mtx[i][j]*actualRatings_mtx[i][j]\n",
    "                    denom+=sim_jaccard_mtx[i][j]\n",
    "                    pred_rating=sum_user_j/denom\n",
    "                #print(\"for i ,j\", i,j,\" sum: \",sum_user_j,\" denom: \",denom,\" total rating: \",pred_rating)\n",
    "                predicted_ratings_matrix[i][j]=pred_rating\n",
    "    elif(method=='jacra'):\n",
    "        print(\"predicting for jacra\")\n",
    "        predicted_ratings_matrix=ratings_mtx_jacra.iloc[0:50,0:100].as_matrix()\n",
    "        #actual_ratings_matrix=sratings_mtx_jacra.as_matrix()\n",
    "        print(\"actual for jacra \",actualRatings_mtx)\n",
    "        print(\"predicted for jacra \",predicted_ratings_matrix)\n",
    "        for i,user in enumerate(actualRatings_mtx):\n",
    "            # i is userid row is all books\n",
    "            sum_user_j=0\n",
    "            denom=0\n",
    "            for j,book in enumerate(user):\n",
    "                #should update in predicted_ratings_matrix[i][j]\n",
    "                if(predicted_ratings_matrix[i][j]!=0):\n",
    "                    sum_user_j+=sim_jacra_mtx[i][j]*actualRatings_mtx[i][j]\n",
    "                    denom+=sim_jacra_mtx[i][j]\n",
    "                    pred_rating=sum_user_j/denom\n",
    "                #print(\"for i ,j\", i,j,\" sum: \",sum_user_j,\" denom: \",denom,\" total rating: \",pred_rating)\n",
    "                predicted_ratings_matrix[i][j]=pred_rating\n",
    "    return predicted_ratings_matrix\n",
    "\n",
    "            "
   ]
  },
  {
   "cell_type": "code",
   "execution_count": 102,
   "metadata": {},
   "outputs": [],
   "source": [
    "def rmse_mymethod(actual,predicted):\n",
    "    sumsq=0.0\n",
    "    count=0\n",
    "    for i,row in enumerate(actual):\n",
    "        for j,cell in enumerate(row):\n",
    "            if(actual[i][j]!=0):\n",
    "                count+=1\n",
    "                sumsq+=((predicted[i][j]-actual[i][j])**2)\n",
    "                #print(i,j,actual[i][j])\n",
    "    print(\"count: \",count)\n",
    "    return np.sqrt(sumsq/count)\n",
    "    #return np.sqrt((sumsq).mean())\n",
    "\n",
    "#rmse(np.array([2,2,3]), np.array([0,2,6]))\n",
    "#rmse_mymethod(actual_ratings_matrix,predicted_ratings_matrix)\n",
    "def rmse(actual,predicted):\n",
    "    return np.sqrt(((predicted-actual)**2).mean())\n",
    "\n",
    "def mae_mymethod(actual,predicted):\n",
    "    sum_abs=0.0\n",
    "    count=0\n",
    "    for i,row in enumerate(actual):\n",
    "        for j,cell in enumerate(row):\n",
    "            if(actual[i][j]!=0):\n",
    "                count+=1\n",
    "                sum_abs+=abs(predicted[i][j]-actual[i][j])\n",
    "                #print(i,j,actual[i][j])\n",
    "    return(sum_abs/count)\n",
    "    #return np.sqrt((sumsq).mean())\n",
    "\n"
   ]
  },
  {
   "cell_type": "code",
   "execution_count": 124,
   "metadata": {},
   "outputs": [
    {
     "name": "stdout",
     "output_type": "stream",
     "text": [
      "predicting for jaccard\n",
      "actual for jaccard  [[0. 0. 0. ... 3. 0. 4.]\n",
      " [0. 5. 0. ... 0. 0. 0.]\n",
      " [0. 0. 0. ... 0. 0. 0.]\n",
      " ...\n",
      " [0. 0. 0. ... 0. 0. 0.]\n",
      " [3. 0. 0. ... 3. 0. 0.]\n",
      " [0. 3. 0. ... 0. 0. 0.]]\n",
      "predicted for jaccard  [[0.         0.         0.         ... 1.25029291 1.24604899 1.27564068]\n",
      " [1.27564068 1.27564068 1.27564068 ... 0.97973813 0.97636679 0.96573272]\n",
      " [0.96573272 0.96573272 0.96573272 ... 0.24877678 0.24805219 0.24449165]\n",
      " ...\n",
      " [0.42836676 0.42836676 0.42836676 ... 0.16447634 0.16386386 0.1619342 ]\n",
      " [3.         1.5        0.9        ... 0.77184466 0.76848986 0.7579478 ]\n",
      " [0.7579478  3.         1.66666667 ... 0.51750627 0.51576855 0.51028544]]\n"
     ]
    },
    {
     "data": {
      "text/plain": [
       "array([[0.        , 0.        , 0.        , ..., 1.25029291, 1.24604899,\n",
       "        1.27564068],\n",
       "       [0.        , 0.        , 0.        , ..., 0.94325949, 0.94013413,\n",
       "        0.93027068],\n",
       "       [0.        , 0.        , 0.        , ..., 0.24309589, 0.24240397,\n",
       "        0.23900262],\n",
       "       ...,\n",
       "       [0.        , 0.        , 0.        , ..., 0.146286  , 0.1458013 ,\n",
       "        0.14427163],\n",
       "       [3.        , 1.5       , 0.9       , ..., 0.77184466, 0.76848986,\n",
       "        0.7579478 ],\n",
       "       [0.        , 1.5       , 1.07142857, ..., 0.51062472, 0.50893283,\n",
       "        0.50359335]])"
      ]
     },
     "execution_count": 124,
     "metadata": {},
     "output_type": "execute_result"
    }
   ],
   "source": [
    "import numpy as np\n",
    "predicted_ratings_matrix=get_pred(actualRatings_mtx,method='jaccard')\n",
    "#converts Nan to 0\n",
    "predicted_ratings_matrix=np.nan_to_num(predicted_ratings_matrix)\n",
    "predicted_ratings_matrix"
   ]
  },
  {
   "cell_type": "code",
   "execution_count": 129,
   "metadata": {},
   "outputs": [
    {
     "name": "stdout",
     "output_type": "stream",
     "text": [
      "count:  866\n",
      "jaccard rmse my method:  2.6920138764811075\n",
      "jaccard rmse:  1.4357586179949107\n"
     ]
    }
   ],
   "source": [
    "##0.96 jaccard\n",
    "print(\"jaccard rmse my method: \", rmse_mymethod(actualRatings_mtx,predicted_ratings_matrix))\n",
    "print(\"jaccard rmse: \",rmse(actualRatings_mtx,predicted_ratings_matrix))"
   ]
  },
  {
   "cell_type": "code",
   "execution_count": 126,
   "metadata": {},
   "outputs": [
    {
     "name": "stdout",
     "output_type": "stream",
     "text": [
      "jaccard mae my method:  2.42774182742154\n"
     ]
    }
   ],
   "source": [
    "import sklearn.metrics as skmetrics\n",
    "#mae = np.sum(np.absolute((imageB.astype(\"float\") - imageA.astype(\"float\")))\n",
    "print(\"jaccard mae my method: \",mae_mymethod(actualRatings_mtx, predicted_ratings_matrix))\n",
    "#print(\"jaccard mae: \",skmetrics.mean_absolute_error(actualRatings_mtx, predicted_ratings_matrix))"
   ]
  },
  {
   "cell_type": "code",
   "execution_count": 106,
   "metadata": {},
   "outputs": [
    {
     "name": "stdout",
     "output_type": "stream",
     "text": [
      "actual:  [[0. 0. 0. ... 3. 0. 4.]\n",
      " [0. 5. 0. ... 0. 0. 0.]\n",
      " [0. 0. 0. ... 0. 0. 0.]\n",
      " ...\n",
      " [0. 0. 0. ... 0. 0. 0.]\n",
      " [3. 0. 0. ... 3. 0. 0.]\n",
      " [0. 3. 0. ... 0. 0. 0.]]\n"
     ]
    }
   ],
   "source": [
    "print(\"actual: \",actualRatings_mtx)"
   ]
  },
  {
   "cell_type": "code",
   "execution_count": 116,
   "metadata": {},
   "outputs": [
    {
     "name": "stdout",
     "output_type": "stream",
     "text": [
      "predicting for jacra\n",
      "actual for jacra  [[0. 0. 0. ... 3. 0. 4.]\n",
      " [0. 5. 0. ... 0. 0. 0.]\n",
      " [0. 0. 0. ... 0. 0. 0.]\n",
      " ...\n",
      " [0. 0. 0. ... 0. 0. 0.]\n",
      " [3. 0. 0. ... 3. 0. 0.]\n",
      " [0. 3. 0. ... 0. 0. 0.]]\n",
      "predicted for jacra  [[0.         0.         0.         ... 1.52475842 1.52475842 1.55114739]\n",
      " [0.         0.         0.         ... 1.88016495 1.88016495 1.86003361]\n",
      " [0.         0.         0.         ... 0.22333036 0.22333036 0.21834675]\n",
      " ...\n",
      " [0.         0.         0.         ... 0.12312188 0.12312188 0.12100777]\n",
      " [3.         1.36363636 0.64608758 ... 1.12478535 1.12478535 1.10623206]\n",
      " [0.         1.09090909 0.98360656 ... 0.40676565 0.40676565 0.39795535]]\n"
     ]
    },
    {
     "name": "stderr",
     "output_type": "stream",
     "text": [
      "c:\\users\\nived\\appdata\\local\\programs\\python\\python36\\lib\\site-packages\\ipykernel_launcher.py:36: RuntimeWarning: invalid value encountered in double_scalars\n"
     ]
    },
    {
     "data": {
      "text/plain": [
       "array([[0.        , 0.        , 0.        , ..., 1.52475842, 1.52475842,\n",
       "        1.55114739],\n",
       "       [1.55114739, 1.55114739, 1.55114739, ..., 1.96468247, 1.96468247,\n",
       "        1.94271114],\n",
       "       [1.94271114, 1.94271114, 1.94271114, ..., 0.23486746, 0.23486746,\n",
       "        0.22936201],\n",
       "       ...,\n",
       "       [0.58681086, 0.58681086, 0.58681086, ..., 0.14656835, 0.14656835,\n",
       "        0.14358214],\n",
       "       [3.        , 1.36363636, 0.64608758, ..., 1.12478535, 1.12478535,\n",
       "        1.10623206],\n",
       "       [1.10623206, 3.        , 2.30769231, ..., 0.41534798, 0.41534798,\n",
       "        0.40616618]])"
      ]
     },
     "execution_count": 116,
     "metadata": {},
     "output_type": "execute_result"
    }
   ],
   "source": [
    "predicted_ratings_matrix=get_pred(actualRatings_mtx,method='jacra')\n",
    "#converts Nan to 0\n",
    "predicted_ratings_matrix=np.nan_to_num(predicted_ratings_matrix)\n",
    "predicted_ratings_matrix"
   ]
  },
  {
   "cell_type": "code",
   "execution_count": 117,
   "metadata": {},
   "outputs": [
    {
     "data": {
      "text/plain": [
       "array([[0., 0., 0., ..., 3., 0., 4.],\n",
       "       [0., 5., 0., ..., 0., 0., 0.],\n",
       "       [0., 0., 0., ..., 0., 0., 0.],\n",
       "       ...,\n",
       "       [0., 0., 0., ..., 0., 0., 0.],\n",
       "       [3., 0., 0., ..., 3., 0., 0.],\n",
       "       [0., 3., 0., ..., 0., 0., 0.]])"
      ]
     },
     "execution_count": 117,
     "metadata": {},
     "output_type": "execute_result"
    }
   ],
   "source": [
    "actualRatings_mtx"
   ]
  },
  {
   "cell_type": "code",
   "execution_count": 118,
   "metadata": {},
   "outputs": [
    {
     "name": "stdout",
     "output_type": "stream",
     "text": [
      "count:  866\n",
      "jacra rmse my method:  2.3796548795198134\n"
     ]
    }
   ],
   "source": [
    "#1.86 jacra\n",
    "print(\"jacra rmse my method: \", rmse_mymethod(actualRatings_mtx,predicted_ratings_matrix))\n",
    "#print(\"jacra rmse: \",rmse(actualRatings_mtx,predicted_ratings_matrix))"
   ]
  },
  {
   "cell_type": "code",
   "execution_count": 119,
   "metadata": {},
   "outputs": [
    {
     "name": "stdout",
     "output_type": "stream",
     "text": [
      "jacra mae my method:  2.018840501934289\n"
     ]
    }
   ],
   "source": [
    "import sklearn.metrics as skmetrics\n",
    "#mae = np.sum(np.absolute((imageB.astype(\"float\") - imageA.astype(\"float\")))\n",
    "print(\"jacra mae my method: \",mae_mymethod(actualRatings_mtx, predicted_ratings_matrix))\n",
    "#print(\"jacra mae: \",skmetrics.mean_absolute_error(actualRatings_mtx, predicted_ratings_matrix))"
   ]
  },
  {
   "cell_type": "code",
   "execution_count": 127,
   "metadata": {},
   "outputs": [
    {
     "data": {
      "text/plain": [
       "array([[0.        , 0.        , 0.        , ..., 1.25029291, 1.24604899,\n",
       "        1.27564068],\n",
       "       [0.        , 0.        , 0.        , ..., 0.94325949, 0.94013413,\n",
       "        0.93027068],\n",
       "       [0.        , 0.        , 0.        , ..., 0.24309589, 0.24240397,\n",
       "        0.23900262],\n",
       "       ...,\n",
       "       [0.        , 0.        , 0.        , ..., 0.146286  , 0.1458013 ,\n",
       "        0.14427163],\n",
       "       [3.        , 1.5       , 0.9       , ..., 0.77184466, 0.76848986,\n",
       "        0.7579478 ],\n",
       "       [0.        , 1.5       , 1.07142857, ..., 0.51062472, 0.50893283,\n",
       "        0.50359335]])"
      ]
     },
     "execution_count": 127,
     "metadata": {},
     "output_type": "execute_result"
    }
   ],
   "source": [
    "predicted_ratings_matrix"
   ]
  },
  {
   "cell_type": "code",
   "execution_count": 121,
   "metadata": {},
   "outputs": [],
   "source": [
    "np.savetxt(\"pred_jacra.csv\", predicted_ratings_matrix, delimiter=\",\")"
   ]
  },
  {
   "cell_type": "code",
   "execution_count": 128,
   "metadata": {},
   "outputs": [],
   "source": [
    "np.savetxt(\"pred_jaccard.csv\", predicted_ratings_matrix, delimiter=\",\")"
   ]
  },
  {
   "cell_type": "code",
   "execution_count": null,
   "metadata": {},
   "outputs": [],
   "source": []
  }
 ],
 "metadata": {
  "kernelspec": {
   "display_name": "Python 3",
   "language": "python",
   "name": "python3"
  },
  "language_info": {
   "codemirror_mode": {
    "name": "ipython",
    "version": 3
   },
   "file_extension": ".py",
   "mimetype": "text/x-python",
   "name": "python",
   "nbconvert_exporter": "python",
   "pygments_lexer": "ipython3",
   "version": "3.6.2"
  }
 },
 "nbformat": 4,
 "nbformat_minor": 2
}
