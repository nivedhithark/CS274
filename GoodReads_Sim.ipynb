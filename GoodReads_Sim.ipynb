{
 "cells": [
  {
   "cell_type": "code",
   "execution_count": 1,
   "metadata": {},
   "outputs": [],
   "source": [
    "%matplotlib inline\n",
    "import pandas as pd\n",
    "\n",
    "path=\"C:\\\\Users\\\\nived\\\\Desktop\\\\Nivi ideapad Lenovo\\\\Nivoo SJ\\\\SJSU sem 2\\\\CS274\\\\project ideas\\\\nivedhitha book recomm\\\\data\\\\goodbooks-10k-master\\\\\"\n",
    "ratings = pd.read_csv( path+'ratings.csv' )\n",
    "actual_ratings = pd.read_csv( path+'ratings.csv' )\n",
    "#to_read = pd.read_csv( path+'to_read.csv' )\n",
    "books = pd.read_csv( path+'books.csv' )"
   ]
  },
  {
   "cell_type": "code",
   "execution_count": 6,
   "metadata": {},
   "outputs": [],
   "source": [
    "def euclidean_distance(x,y):\n",
    "    return(1-sqrt(sum(pow(a-b,2) for a, b in zip(x, y))))\n",
    "  \n",
    "def manhattan_distance(x,y):  \n",
    "    return 1-sum(abs(a-b) for a,b in zip(x,y))\n",
    "  \n",
    "def minkowski_distance(x,y,p_value):  \n",
    "    return(1-self.nth_root(sum(pow(abs(a-b),p_value) for a,b in zip(x, y)),p_value))\n",
    "  \n",
    "def nth_root(value, n_root):\n",
    "    root_value = 1/float(n_root)\n",
    "    return round(Decimal(value) ** Decimal(root_value),3)\n",
    "  \n",
    "def cosine_similarity(x,y):  \n",
    "    numerator = sum(a*b for a,b in zip(x,y))\n",
    "    denominator = self.square_rooted(x)*self.square_rooted(y)\n",
    "    return round(numerator/float(denominator),3)\n",
    "  \n",
    "def square_rooted(x):  \n",
    "    return round(sqrt(sum([a*a for a in x])),3)"
   ]
  },
  {
   "cell_type": "code",
   "execution_count": null,
   "metadata": {},
   "outputs": [],
   "source": []
  }
 ],
 "metadata": {
  "kernelspec": {
   "display_name": "Python 3",
   "language": "python",
   "name": "python3"
  },
  "language_info": {
   "codemirror_mode": {
    "name": "ipython",
    "version": 3
   },
   "file_extension": ".py",
   "mimetype": "text/x-python",
   "name": "python",
   "nbconvert_exporter": "python",
   "pygments_lexer": "ipython3",
   "version": "3.6.2"
  }
 },
 "nbformat": 4,
 "nbformat_minor": 2
}
